{
  "nbformat": 4,
  "nbformat_minor": 0,
  "metadata": {
    "colab": {
      "name": "Logistic_MNIST.ipynb",
      "provenance": [],
      "collapsed_sections": [],
      "authorship_tag": "ABX9TyN9kfUlAkoU7nsOy0EOUOK/",
      "include_colab_link": true
    },
    "kernelspec": {
      "name": "python3",
      "display_name": "Python 3"
    },
    "language_info": {
      "name": "python"
    }
  },
  "cells": [
    {
      "cell_type": "markdown",
      "metadata": {
        "id": "view-in-github",
        "colab_type": "text"
      },
      "source": [
        "<a href=\"https://colab.research.google.com/github/three0-s/PRML/blob/main/Ch4.%20Linear%20Regression/Logistic_MNIST.ipynb\" target=\"_parent\"><img src=\"https://colab.research.google.com/assets/colab-badge.svg\" alt=\"Open In Colab\"/></a>"
      ]
    },
    {
      "cell_type": "markdown",
      "metadata": {
        "id": "7bPrM4CDCIyL"
      },
      "source": [
        "**Multinomial Logistic Classification - MNIST**"
      ]
    },
    {
      "cell_type": "code",
      "metadata": {
        "id": "MkX3FDSYBXSU"
      },
      "source": [
        "from sklearn.datasets import fetch_openml\n",
        "mnist = fetch_openml('mnist_784')"
      ],
      "execution_count": null,
      "outputs": []
    },
    {
      "cell_type": "code",
      "metadata": {
        "id": "Kfz892DbCrv5"
      },
      "source": [
        "from sklearn.linear_model import LogisticRegression\n",
        "from sklearn.model_selection import train_test_split\n",
        "import numpy as np\n",
        "\n",
        "def sigmoid_basis(x, m=127, s=50):\n",
        "  return 1 / (1 + np.exp(-(x-m) / s))\n",
        "\n",
        "X_train, X_test, Y_train, Y_test = train_test_split(mnist.data, mnist.target)\n",
        "\n",
        "X_train = sigmoid_basis(X_train)\n",
        "X_test = sigmoid_basis(X_test)\n",
        "\n",
        "lc = LogisticRegression(solver='saga').fit(X_train, Y_train)\n",
        "print(lc.score(X_train, Y_train))"
      ],
      "execution_count": null,
      "outputs": []
    },
    {
      "cell_type": "code",
      "metadata": {
        "colab": {
          "base_uri": "https://localhost:8080/"
        },
        "id": "ekcku3WbHI-G",
        "outputId": "76b567de-40ce-4094-ed97-9fe1a13e617b"
      },
      "source": [
        "print(lc.score(X_test, Y_test))"
      ],
      "execution_count": 9,
      "outputs": [
        {
          "output_type": "stream",
          "text": [
            "0.9189142857142857\n"
          ],
          "name": "stdout"
        }
      ]
    },
    {
      "cell_type": "code",
      "metadata": {
        "colab": {
          "base_uri": "https://localhost:8080/",
          "height": 276
        },
        "id": "mNCZCJlBLI34",
        "outputId": "9a3bbc8a-dfa7-4c19-f1e1-052eeef30c0c"
      },
      "source": [
        "import numpy as np \n",
        "import matplotlib.pyplot as plt\n",
        "from sklearn.metrics import f1_score\n",
        "\n",
        "index = 0\n",
        "misclassified = []\n",
        "\n",
        "pred_test = lc.predict(X_test)\n",
        "for label, predict in zip(Y_test, pred_test):\n",
        "#  print(label, predict)\n",
        " if label != predict: \n",
        "   misclassified.append(index)\n",
        " index +=1\n",
        "\n",
        "plt.figure(figsize=(20,4))\n",
        "for plotIndex, badIndex in enumerate(misclassified[0:5]):\n",
        " plt.subplot(1, 5, plotIndex + 1)\n",
        " plt.imshow(np.reshape(X_test[badIndex], (28,28)), cmap=plt.cm.gray)\n",
        " plt.title('Predicted: {}, Actual: {}'.format(pred_test[badIndex], Y_test[badIndex]), fontsize = 15)\n",
        "\n",
        "print(\"f1 score: {}\".format(format(f1_score(Y_test, pred_test, average='macro')*100, \".2f\")))"
      ],
      "execution_count": 27,
      "outputs": [
        {
          "output_type": "stream",
          "text": [
            "f1 score: 91.77\n"
          ],
          "name": "stdout"
        },
        {
          "output_type": "display_data",
          "data": {
            "image/png": "[encoded data removed]",
            "text/plain": [
              "<Figure size 1440x288 with 5 Axes>"
            ]
          },
          "metadata": {
            "tags": [],
            "needs_background": "light"
          }
        }
      ]
    }
  ]
}